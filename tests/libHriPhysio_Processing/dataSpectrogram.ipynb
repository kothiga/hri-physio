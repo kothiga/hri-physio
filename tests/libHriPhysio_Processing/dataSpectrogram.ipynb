{
 "cells": [
  {
   "cell_type": "code",
   "execution_count": null,
   "metadata": {},
   "outputs": [],
   "source": [
    "import numpy as np\n",
    "import scipy as sp\n",
    "import scipy.signal as sig\n",
    "import matplotlib.pyplot as plt"
   ]
  },
  {
   "cell_type": "code",
   "execution_count": null,
   "metadata": {},
   "outputs": [],
   "source": [
    "# Some functions for generating data\n",
    "\n",
    "def genPureTone(freq, rate, sec):\n",
    "    t = 2*np.pi * np.arange(rate * sec) / rate\n",
    "    pure_tone = np.sin(freq * t).astype(np.float32)\n",
    "    return pure_tone\n",
    "\n",
    "def genComplex(cFreq, rate, sec):\n",
    "    complex_tone = np.zeros( int(rate*sec), dtype=np.float32 )\n",
    "    for freq in cFreq:\n",
    "        complex_tone += genPureTone(freq, rate, sec)\n",
    "    return complex_tone / len(cFreq)\n",
    "\n",
    "def ampModulate(source, freq, rate):\n",
    "    length = source.shape[0]\n",
    "    t = 2*np.pi * np.arange(length) / rate\n",
    "    e = np.sin(freq * t) + 1\n",
    "    return e * source\n",
    "\n",
    "rate = 256\n",
    "sec = 30"
   ]
  },
  {
   "cell_type": "code",
   "execution_count": null,
   "metadata": {},
   "outputs": [],
   "source": []
  }
 ],
 "metadata": {
  "interpreter": {
   "hash": "76a818facf6f9810b05d35dd5d7327f3f911e163a669363cef8897f1e2c593c1"
  },
  "kernelspec": {
   "display_name": "Python 3.8.8 64-bit ('dev': conda)",
   "name": "python3"
  },
  "language_info": {
   "codemirror_mode": {
    "name": "ipython",
    "version": 3
   },
   "file_extension": ".py",
   "mimetype": "text/x-python",
   "name": "python",
   "nbconvert_exporter": "python",
   "pygments_lexer": "ipython3",
   "version": "3.8.5"
  },
  "orig_nbformat": 4
 },
 "nbformat": 4,
 "nbformat_minor": 2
}